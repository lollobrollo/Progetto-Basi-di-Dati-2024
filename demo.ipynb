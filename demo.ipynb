{
 "cells": [
  {
   "cell_type": "markdown",
   "metadata": {},
   "source": [
    "## DEMO DI UTILIZZO PROGETTO D'ESAME\n",
    "\n",
    "Di seguito verrà simulato come un utente potrebbe interfacciarsi al database costruito per l'esame."
   ]
  },
  {
   "cell_type": "code",
   "execution_count": 14,
   "metadata": {},
   "outputs": [],
   "source": [
    "# Importo le librerie che  utilizzerò per la connessione al database\n",
    "import mysql.connector\n",
    "from mysql.connector import Error"
   ]
  },
  {
   "cell_type": "markdown",
   "metadata": {},
   "source": [
    "Chidedo all'utente le credenziali per accedere al database e verifico se posso connettermi"
   ]
  },
  {
   "cell_type": "code",
   "execution_count": 15,
   "metadata": {},
   "outputs": [
    {
     "name": "stdout",
     "output_type": "stream",
     "text": [
      "Connessione al database riuscita\n",
      "Connessione chiusa\n"
     ]
    }
   ],
   "source": [
    "done = False\n",
    "usr = None\n",
    "pwd = None\n",
    "\n",
    "while done == False:\n",
    "    usr = input(\"Inserire username: \")  # utente\n",
    "    pwd = input(\"Inserire password: \")  # pwd_ESAM3\n",
    "    try:\n",
    "        connection = mysql.connector.connect(host='localhost', database = 'DRGbeer', user=usr, password=pwd)\n",
    "        if connection.is_connected():\n",
    "            print(\"Connessione al database riuscita\")\n",
    "            done = True\n",
    "    except Error as e:\n",
    "        print(\"Errore durante la connessione al database: \", e)\n",
    "        done = False\n",
    "    finally:\n",
    "        if connection is not None and connection.is_connected():\n",
    "            connection.close()\n",
    "            print(\"Connessione chiusa\")\n",
    "    "
   ]
  },
  {
   "cell_type": "markdown",
   "metadata": {},
   "source": [
    "Definisco una funzione per semplificare le chiamate alle stored procedure presenti nel database"
   ]
  },
  {
   "cell_type": "code",
   "execution_count": 16,
   "metadata": {},
   "outputs": [],
   "source": [
    "def call_stored_procedure(sp, usr_data = None):\n",
    "    # instauro la connessione\n",
    "    connection = mysql.connector.connect(host='localhost', database='DRGbeer', user=usr, password=pwd)\n",
    "    try:\n",
    "        # Creazione del cursore ed esecuzione stored procedure\n",
    "        cursor = connection.cursor()\n",
    "        if usr_data is None:\n",
    "            cursor.callproc(sp)\n",
    "        else:\n",
    "            cursor.callproc(sp, usr_data)\n",
    "        connection.commit()\n",
    "        \n",
    "        # Recupero dei risultati\n",
    "        for result in cursor.stored_results():\n",
    "            res = result.fetchall()\n",
    "            for row in res:\n",
    "                print(row)\n",
    "\n",
    "    except Error as e:\n",
    "        print(f\"Errore durante l'esecuzione della stored procedure: {e}\")\n",
    "    # Chiusura del cursore e della connessione\n",
    "    if connection is not None and connection.is_connected():\n",
    "        cursor.close()\n",
    "        connection.close()\n",
    "        print(\"Connessione al database chiusa\")\n"
   ]
  },
  {
   "cell_type": "markdown",
   "metadata": {},
   "source": [
    "Definisco un dizionario con le operazioni che si possono eseguire"
   ]
  },
  {
   "cell_type": "code",
   "execution_count": 17,
   "metadata": {},
   "outputs": [],
   "source": [
    "# dizionario contenente i nomi delle operazioni eseguibili\n",
    "procedure = {\n",
    "    '1':'Inserimento giocatore',         # in: nome utente\n",
    "    '2':'Inserimento partita',           # in: versione, giocatore, classe, incarico, anomalia, bioma, bb, yc, ms, sn\n",
    "    '3':'Aggiornamento suggerimenti',    # batch\n",
    "    '4':'Consiglio missione',            # in: genericità, materiale\n",
    "    '5':'Aggiornamento Inventario',      # in: nome utente, bb, yc, ms, sn\n",
    "    '6':'Aggiunta Licenza',              # in: nome utente, nome birra\n",
    "    '7':'Licenze Sbloccabili',           # in: nome utente\n",
    "    '8':'Licenze Bloccate',              # in: nome utente\n",
    "    '9':'Termina il programma'\n",
    "}"
   ]
  },
  {
   "cell_type": "markdown",
   "metadata": {},
   "source": [
    "Definisco le operazioni presenti nel database:"
   ]
  },
  {
   "cell_type": "markdown",
   "metadata": {},
   "source": [
    "### 1: Inserimento giocatore"
   ]
  },
  {
   "cell_type": "code",
   "execution_count": 18,
   "metadata": {},
   "outputs": [],
   "source": [
    "def inserimento_giocatore():\n",
    "    print('Inserimento giocatore')\n",
    "    nome = input('Inserire il proprio nome: ')\n",
    "    call_stored_procedure('InserimentoGiocatore',(nome,))"
   ]
  },
  {
   "cell_type": "markdown",
   "metadata": {},
   "source": [
    "### 2: Inserimento partita"
   ]
  },
  {
   "cell_type": "code",
   "execution_count": 19,
   "metadata": {},
   "outputs": [],
   "source": [
    "def inserimento_partita():\n",
    "    print('Inserimento partita')\n",
    "    ver = input('Inserire la versione di gioco: ')\n",
    "    nome = input('Inserire nome utente: ')\n",
    "    classe = input('Inserire la classe utilizzata: ')\n",
    "    incarico = input('Inserire incarico completato: ')\n",
    "    anomalia = input('Inserire anomalia se presente: ')\n",
    "    bioma = input('Inserire bioma visitato: ')\n",
    "    BB = int(input('Inserire BB ottenuti: '))\n",
    "    YC = int(input('Inserire YC ottenuti: '))\n",
    "    MS = int(input('Inserire MS ottenuti: '))\n",
    "    SN = int(input('Inserire SN ottenuti: '))\n",
    "    call_stored_procedure('InserimentoPartita',(ver,nome,classe,incarico,anomalia,bioma,BB,YC,MS,SN))"
   ]
  },
  {
   "cell_type": "markdown",
   "metadata": {},
   "source": [
    "### 3: Aggiornamento suggerimenti"
   ]
  },
  {
   "cell_type": "code",
   "execution_count": 20,
   "metadata": {},
   "outputs": [],
   "source": [
    "def aggiornamento_suggerimenti():\n",
    "    print('Aggiornamento suggerimenti')\n",
    "    call_stored_procedure('AggiornamentoSuggerimenti')"
   ]
  },
  {
   "cell_type": "markdown",
   "metadata": {},
   "source": [
    "### 4: Consiglio missione"
   ]
  },
  {
   "cell_type": "code",
   "execution_count": 21,
   "metadata": {},
   "outputs": [],
   "source": [
    "def consiglio_missione():\n",
    "    print('Consiglio missione')\n",
    "    gen = input('Inserire ampiezza di ricerca:\\n  0 -> generico\\n  .nomeutente -> specifico\\n')\n",
    "    mat = input('Inserire materiale richiesto (BB, YC, MS, Sn): ')\n",
    "    call_stored_procedure('Consiglio', (gen, mat))"
   ]
  },
  {
   "cell_type": "markdown",
   "metadata": {},
   "source": [
    "### 5: Aggiornamento inventario"
   ]
  },
  {
   "cell_type": "code",
   "execution_count": 22,
   "metadata": {},
   "outputs": [],
   "source": [
    "def aggiornamento_inventario():\n",
    "    print('Aggiornamento inventario')\n",
    "    nome = input('Inserire nome utente: ')\n",
    "    BB = int(input('Inserire quantità BB aggiornata: '))\n",
    "    YC = int(input('Inserire quantità YC aggiornata: '))\n",
    "    MS = int(input('Inserire quantità MS aggiornata: '))\n",
    "    SN = int(input('Inserire quantità SN aggiornata: '))\n",
    "    call_stored_procedure('AggiornamentoInventario', (nome,BB,YC,MS,SN))"
   ]
  },
  {
   "cell_type": "markdown",
   "metadata": {},
   "source": [
    "### 6: Aggiunta licenza"
   ]
  },
  {
   "cell_type": "code",
   "execution_count": 23,
   "metadata": {},
   "outputs": [],
   "source": [
    "def aggiunta_licenza():\n",
    "    print('Aggiunta licenza')\n",
    "    nome = input('Inserire nome utente: ')\n",
    "    birra = input('Inserire nome birra sbloccata: ')\n",
    "    call_stored_procedure('AggiuntaLicenza',(nome,birra))"
   ]
  },
  {
   "cell_type": "markdown",
   "metadata": {},
   "source": [
    "### 7: Licenze sbloccabili"
   ]
  },
  {
   "cell_type": "code",
   "execution_count": 24,
   "metadata": {},
   "outputs": [],
   "source": [
    "def licenze_sbloccabili():\n",
    "    print('Licenze sbloccabili')\n",
    "    nome = input('Inserire nome utente: ')\n",
    "    call_stored_procedure('LicenzeSbloccabili',(nome,))"
   ]
  },
  {
   "cell_type": "markdown",
   "metadata": {},
   "source": [
    "### 8: Licenze bloccate"
   ]
  },
  {
   "cell_type": "code",
   "execution_count": 25,
   "metadata": {},
   "outputs": [],
   "source": [
    "def licenze_bloccate():\n",
    "    print('Licenze bloccate')\n",
    "    nome = input('Inserire nome utente: ')\n",
    "    call_stored_procedure('LicenzeBloccate',(nome,))"
   ]
  },
  {
   "cell_type": "markdown",
   "metadata": {},
   "source": [
    "Procedo ora a simulare l'utilizzo del database\n",
    "Si consiglia di provare alcune delle seguenti operazioni:\n",
    "- aggiornare l'inventario (5) di 'Giocatore1' dandogli una decina di risorse per tipo;\n",
    "- controllare le licenze sbloccabili (7) da 'Giocatore1' e da 'Giocatore2';\n",
    "- aggiungere la licenza (6) dal nome 'Blackout Stout' all'utente 'Giocatore1'; \n",
    "- visualizzare le licenze non sbloccate (8) da 'Giocatore3';\n",
    "- chiedere consigli (4) per un materiale a scelta per un giocatore a scelta con genericità 0."
   ]
  },
  {
   "cell_type": "code",
   "execution_count": 26,
   "metadata": {},
   "outputs": [
    {
     "name": "stdout",
     "output_type": "stream",
     "text": [
      "Operazioni disponibili: \n",
      "1  ->  Inserimento giocatore\n",
      "2  ->  Inserimento partita\n",
      "3  ->  Aggiornamento suggerimenti\n",
      "4  ->  Consiglio missione\n",
      "5  ->  Aggiornamento Inventario\n",
      "6  ->  Aggiunta Licenza\n",
      "7  ->  Licenze Sbloccabili\n",
      "8  ->  Licenze Bloccate\n",
      "9  ->  Termina il programma\n",
      "Aggiornamento inventario\n",
      "Connessione al database chiusa\n",
      "Licenze sbloccabili\n",
      "('Arkenstout', 'A blizzard freezes you and encases you in ice', 0, 0, 4, 0)\n",
      "('Best Wurst Beer', 'No Effect', 0, 0, 0, 0)\n",
      "('Blackout Stout', 'Immediately maxes your drunk level, causing you to pass out', 0, 0, 0, 3)\n",
      "('Burning Love', 'You catch on fire', 0, 0, 6, 0)\n",
      "('Dark Morkite', 'x1.44 Morkite mined', 2, 0, 0, 0)\n",
      "('Gut Wrecker', 'You release a loud burp and shake the screen', 1, 0, 0, 4)\n",
      "('Mactera Brew', 'You release a loud fart and create a green cloud around you', 1, 0, 0, 6)\n",
      "('Pots O’ Gold', 'x4 Gold mined', 3, 0, 0, 0)\n",
      "('Randoweisser', 'Your loadout and cosmetics will be randomized', 0, 0, 0, 10)\n",
      "('Red Rock Blaster', 'x1.69 Max Health', 1, 0, 0, 0)\n",
      "('Rocky Mountain', '-2 Pickaxe hit per terrain', 3, 0, 0, 0)\n",
      "('Seasoned Moonrider', 'You receive low gravity and gain an upward boost in momentum', 0, 0, 3, 4)\n",
      "('Skull Crusher Ale', '+20 Base Pickaxe damage', 2, 0, 0, 0)\n",
      "('Slayer Stout', 'x0.25 Pickaxe power attack cooldown', 2, 0, 0, 0)\n",
      "('Smart Stout', 'Become temporarily smart and talk like a scientist', 0, 0, 4, 2)\n",
      "('Tunnel Rat', '-60% Fall damage', 3, 0, 0, 0)\n",
      "('Wormhole Special', 'Teleports you to a random location (either the Drop Pod or outside the Space Rig)', 0, 1, 2, 3)\n",
      "Connessione al database chiusa\n",
      "Licenze sbloccabili\n",
      "('Backbreaker Stout', 'x1.32 Carry Movement Speed', 1, 0, 0, 0)\n",
      "('Best Wurst Beer', 'No Effect', 0, 0, 0, 0)\n",
      "('Glyphid Slammer', 'No Effect', 0, 0, 0, 0)\n",
      "('Leaf Lover’s Special', 'Removes Drunk status effect', 0, 0, 0, 0)\n",
      "('Oily Oaf Brew', 'No Effect', 0, 0, 0, 0)\n",
      "('Skull Crusher Ale', '+20 Base Pickaxe damage', 2, 0, 0, 0)\n",
      "('Slayer Stout', 'x0.25 Pickaxe power attack cooldown', 2, 0, 0, 0)\n",
      "('Tunnel Rat', '-60% Fall damage', 3, 0, 0, 0)\n",
      "Connessione al database chiusa\n",
      "Aggiunta licenza\n",
      "Connessione al database chiusa\n",
      "Licenze bloccate\n",
      "('Arkenstout', 'A blizzard freezes you and encases you in ice', 0, 0, 4, 0)\n",
      "('Backbreaker Stout', 'x1.32 Carry Movement Speed', 1, 0, 0, 0)\n",
      "('Blacklock Lager', 'Your screen will darken and you’ll hear ghostly sounds', 0, 2, 0, 5)\n",
      "('Blackout Stout', 'Immediately maxes your drunk level, causing you to pass out', 0, 0, 0, 3)\n",
      "('Blackreach Blonde', 'Receive the Jukebox effect and start dancing', 0, 3, 3, 0)\n",
      "('Burning Love', 'You catch on fire', 0, 0, 6, 0)\n",
      "('Dark Morkite', 'x1.44 Morkite mined', 2, 0, 0, 0)\n",
      "('Flintlocke’s Delight', 'Explosions surround you, tossing you in random directions', 0, 3, 0, 2)\n",
      "('Glyphid Slammer', 'No Effect', 0, 0, 0, 0)\n",
      "('Gut Wrecker', 'You release a loud burp and shake the screen', 1, 0, 0, 4)\n",
      "('Leaf Lover’s Special', 'Removes Drunk status effect', 0, 0, 0, 0)\n",
      "('Mactera Brew', 'You release a loud fart and create a green cloud around you', 1, 0, 0, 6)\n",
      "('Malt Rockbearer', 'You will grow in size', 0, 6, 0, 0)\n",
      "('Oily Oaf Brew', 'No Effect', 0, 0, 0, 0)\n",
      "('Pots O’ Gold', 'x4 Gold mined', 3, 0, 0, 0)\n",
      "('Randoweisser', 'Your loadout and cosmetics will be randomized', 0, 0, 0, 10)\n",
      "('Red Rock Blaster', 'x1.69 Max Health', 1, 0, 0, 0)\n",
      "('Rocky Mountain', '-2 Pickaxe hit per terrain', 3, 0, 0, 0)\n",
      "('Seasoned Moonrider', 'You receive low gravity and gain an upward boost in momentum', 0, 0, 3, 4)\n",
      "('Smart Stout', 'Become temporarily smart and talk like a scientist', 0, 0, 4, 2)\n",
      "('Underhill Deluxe', 'You shrink in size', 0, 4, 0, 0)\n",
      "('Wormhole Special', 'Teleports you to a random location (either the Drop Pod or outside the Space Rig)', 0, 1, 2, 3)\n",
      "Connessione al database chiusa\n",
      "Consiglio missione\n",
      "('driller', 'mining expedition', 'cave leech cluster', 'crystalline cavern')\n",
      "Connessione al database chiusa\n",
      "Aggiornamento suggerimenti\n",
      "Connessione al database chiusa\n",
      "Consiglio missione\n",
      "('driller', 'mining expedition', 'cave leech cluster', 'crystalline cavern')\n",
      "Connessione al database chiusa\n",
      "chiusura programma in corso...\n"
     ]
    }
   ],
   "source": [
    "print('Operazioni disponibili: ')\n",
    "for i in range(1,len(procedure)+1):\n",
    "    print(str(i), ' -> ', procedure[str(i)])\n",
    "end = False\n",
    "while end == False:\n",
    "    \n",
    "    request = input('Selezionare una operazione: ')\n",
    "    if request == '1':\n",
    "        inserimento_giocatore()\n",
    "    elif request == '2':\n",
    "        inserimento_partita()\n",
    "    elif request == '3':\n",
    "        aggiornamento_suggerimenti()\n",
    "    elif request == '4':\n",
    "        consiglio_missione()\n",
    "    elif request == '5':\n",
    "        aggiornamento_inventario()\n",
    "    elif request == '6':\n",
    "        aggiunta_licenza()\n",
    "    elif request == '7':\n",
    "        licenze_sbloccabili()\n",
    "    elif request == '8':\n",
    "        licenze_bloccate()\n",
    "    elif request == '9':\n",
    "        print('chiusura programma in corso...')\n",
    "        end = True\n",
    "    else:\n",
    "        print('opzione non valida, riprovare')\n",
    "    "
   ]
  }
 ],
 "metadata": {
  "kernelspec": {
   "display_name": "Python 3",
   "language": "python",
   "name": "python3"
  },
  "language_info": {
   "codemirror_mode": {
    "name": "ipython",
    "version": 3
   },
   "file_extension": ".py",
   "mimetype": "text/x-python",
   "name": "python",
   "nbconvert_exporter": "python",
   "pygments_lexer": "ipython3",
   "version": "3.12.0"
  }
 },
 "nbformat": 4,
 "nbformat_minor": 2
}
